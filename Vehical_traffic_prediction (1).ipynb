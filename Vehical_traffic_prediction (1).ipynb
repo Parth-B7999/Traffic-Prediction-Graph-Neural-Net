{
  "nbformat": 4,
  "nbformat_minor": 0,
  "metadata": {
    "colab": {
      "name": "Copy of traffic_prediction.ipynb",
      "provenance": [],
      "collapsed_sections": []
    },
    "kernelspec": {
      "name": "python3",
      "display_name": "Python 3"
    },
    "language_info": {
      "name": "python"
    },
    "accelerator": "GPU"
  },
  "cells": [
    {
      "cell_type": "markdown",
      "metadata": {
        "id": "OVp0qeJL_nSm"
      },
      "source": [
        "# Traffic Forecasting with Pytorch Geometric Temporal\n"
      ]
    },
    {
      "cell_type": "markdown",
      "metadata": {
        "id": "MaEHCakD_s7q"
      },
      "source": [
        "## Installation"
      ]
    },
    {
      "cell_type": "code",
      "metadata": {
        "id": "svWjrrJxjp8B"
      },
      "source": [
        "import torch\n",
        "from IPython.display import clear_output\n",
        "pt_version = torch.__version__\n",
        "print(pt_version)"
      ],
      "execution_count": null,
      "outputs": []
    },
    {
      "cell_type": "code",
      "metadata": {
        "id": "NjWHdw_Dj3KQ"
      },
      "source": [
        "!pip install torch-scatter -f https://pytorch-geometric.com/whl/torch-${pt_version}.html\n",
        "!pip install torch-sparse -f https://pytorch-geometric.com/whl/torch-${pt_version}.html\n",
        "!pip install torch-cluster -f https://pytorch-geometric.com/whl/torch-${pt_version}.html\n",
        "!pip install torch-spline-conv -f https://pytorch-geometric.com/whl/torch-${pt_version}.html\n",
        "!pip install torch-geometric\n",
        "!pip install torch-geometric-temporal\n",
        "clear_output()"
      ],
      "execution_count": 2,
      "outputs": []
    },
    {
      "cell_type": "code",
      "source": [
        "import numpy as np\n",
        "import matplotlib.pyplot as plt\n",
        "import pandas as pd\n",
        "\n",
        "from tqdm import tqdm\n",
        "\n",
        "import torch\n",
        "import torch.nn.functional as F\n",
        "from torch_geometric_temporal.nn.recurrent import TGCN\n",
        "\n",
        "from torch_geometric_temporal.dataset import ChickenpoxDatasetLoader\n",
        "from torch_geometric_temporal.signal import temporal_signal_split\n",
        "\n",
        "import numpy as np\n",
        "import matplotlib.pyplot as plt\n",
        "import pandas as pd"
      ],
      "metadata": {
        "id": "hz4L3sKcMMGh"
      },
      "execution_count": null,
      "outputs": []
    },
    {
      "cell_type": "markdown",
      "metadata": {
        "id": "W2nTO8PH_vlf"
      },
      "source": [
        "## Dataset\n",
        "- Traffic forecasting dataset based on Los Angeles Metropolitan traffic \n",
        "- 207 loop detectors on highways\n",
        "- March 2012 - June 2012\n",
        "- From the paper: Diffusion Convolutional Recurrent Neural Network\n"
      ]
    },
    {
      "cell_type": "code",
      "metadata": {
        "id": "iOc-jbFckFHn",
        "colab": {
          "base_uri": "https://localhost:8080/"
        },
        "outputId": "9bfd7fd3-8315-48fe-88cc-1dd95e314078"
      },
      "source": [
        "import numpy as np\n",
        "from torch_geometric_temporal.dataset import METRLADatasetLoader\n",
        "from torch_geometric_temporal.signal import StaticGraphTemporalSignal\n",
        "\n",
        "loader = METRLADatasetLoader()\n",
        "dataset = loader.get_dataset(num_timesteps_in=12, num_timesteps_out=12)\n",
        "\n",
        "print(\"Dataset type:  \", dataset)\n",
        "#print(\"Number of samples / sequences: \",  len(set(dataset)))"
      ],
      "execution_count": 3,
      "outputs": [
        {
          "output_type": "stream",
          "name": "stdout",
          "text": [
            "Dataset type:   <torch_geometric_temporal.signal.static_graph_temporal_signal.StaticGraphTemporalSignal object at 0x7f2db93f6390>\n"
          ]
        }
      ]
    },
    {
      "cell_type": "markdown",
      "metadata": {
        "id": "r2zO_CjYBQSt"
      },
      "source": [
        "#### Data Sample\n",
        "- 207 nodes\n",
        "- 2 features per node (speed, time)\n",
        "- 12 timesteps per bucket (12 x 5 min = 60 min) \n",
        "- Labels for 12 future timesteps (normalized speed) --> node regression\n",
        "- Edge_attr is build based on the distances between sensors + threshold\n",
        "- Further details: https://pytorch-geometric-temporal.readthedocs.io/en/latest/_modules/torch_geometric_temporal/dataset/metr_la.html#METRLADatasetLoader\n",
        "- Raw data: https://graphmining.ai/temporal_datasets/METR-LA.zip"
      ]
    },
    {
      "cell_type": "code",
      "metadata": {
        "colab": {
          "base_uri": "https://localhost:8080/"
        },
        "id": "ClWnMrz0Anjr",
        "outputId": "542f7a82-8ba2-4b95-eb87-0f09b7db2b15"
      },
      "source": [
        "# Show first sample\n",
        "next(iter(dataset))"
      ],
      "execution_count": 4,
      "outputs": [
        {
          "output_type": "execute_result",
          "data": {
            "text/plain": [
              "Data(x=[207, 2, 12], edge_index=[2, 1722], edge_attr=[1722], y=[207, 12])"
            ]
          },
          "metadata": {},
          "execution_count": 4
        }
      ]
    },
    {
      "cell_type": "markdown",
      "source": [
        "METR-LA would be a sequence-to-sequence prediction dataset that predicts further into the future than just the next timestep. You can also see, that the features are used as label as well.\n",
        "\n",
        "\n",
        "\n",
        "```\n",
        "# >>> From METRLADatasetLoader <<<\n",
        "indices = [\n",
        "            (i, i + (num_timesteps_in + num_timesteps_out))\n",
        "            for i in range(self.X.shape[2] - (num_timesteps_in + num_timesteps_out) + 1)\n",
        "        ]\n",
        "for i, j in indices:\n",
        "            features.append((self.X[:, :, i : i + num_timesteps_in]).numpy())\n",
        "            target.append((self.X[:, 0, i + num_timesteps_in : j]).numpy())\n",
        "```\n",
        "\n"
      ],
      "metadata": {
        "id": "pk3EMfteMwLP"
      }
    },
    {
      "cell_type": "code",
      "metadata": {
        "colab": {
          "base_uri": "https://localhost:8080/",
          "height": 282
        },
        "id": "EzrkqXPxFwIx",
        "outputId": "0b34686d-d656-4d3d-a1e8-5e801ab9e741"
      },
      "source": [
        "import seaborn as sns\n",
        "# Visualize traffic over time\n",
        "sensor_number = 1\n",
        "hours = 24\n",
        "sensor_labels = [bucket.y[sensor_number][0].item() for bucket in list(dataset)[:hours]]\n",
        "sns.lineplot(data=sensor_labels)"
      ],
      "execution_count": 6,
      "outputs": [
        {
          "output_type": "execute_result",
          "data": {
            "text/plain": [
              "<matplotlib.axes._subplots.AxesSubplot at 0x7f2d91a669d0>"
            ]
          },
          "metadata": {},
          "execution_count": 6
        },
        {
          "output_type": "display_data",
          "data": {
            "text/plain": [
              "<Figure size 432x288 with 1 Axes>"
            ],
            "image/png": "[encoded data removed]"
          },
          "metadata": {
            "needs_background": "light"
          }
        }
      ]
    },
    {
      "cell_type": "code",
      "source": [
        "batch = np.linspace(0,34250,172)\n",
        "batch"
      ],
      "metadata": {
        "id": "kQnYLrn6MZ9m"
      },
      "execution_count": null,
      "outputs": []
    },
    {
      "cell_type": "code",
      "source": [
        "#dataset1 = StaticGraphTemporalSignalBatch(edge_index=dataset.edge_index,edge_weight=dataset.edge_weight,features=dataset.features, targets=dataset.targets,batches=batch)"
      ],
      "metadata": {
        "id": "dixPMIHoMbct"
      },
      "execution_count": null,
      "outputs": []
    },
    {
      "cell_type": "markdown",
      "metadata": {
        "id": "8ZqDAqQdBS8Q"
      },
      "source": [
        "#### Test Train Split"
      ]
    },
    {
      "cell_type": "code",
      "metadata": {
        "id": "ZMn2LXERsyVK"
      },
      "source": [
        "from torch_geometric_temporal.signal import temporal_signal_split\n",
        "train_dataset, test_dataset = temporal_signal_split(dataset, train_ratio=0.8)\n",
        "\n",
        "#print(\"Number of train buckets: \", len(set(train_dataset)))\n",
        "#print(\"Number of test buckets: \", len(set(test_dataset)))"
      ],
      "execution_count": 7,
      "outputs": []
    },
    {
      "cell_type": "markdown",
      "metadata": {
        "id": "n1puzm8U_xpY"
      },
      "source": [
        "## Model\n",
        "\n",
        "- A3TGCN is an extension of TGCN that uses attention \n",
        "- The spatial aggregation uses GCN, the temporal aggregation a GRU\n",
        "- We can pass in periods to get an embedding for several timesteps\n",
        "- This embedding can be used to predict several steps into the future = output dimension\n",
        "- We could also do this in a loop and feed it again into the model (would be autoregressive)\n",
        "- There is only one block here. Other layers also allow stacking???"
      ]
    },
    {
      "cell_type": "code",
      "metadata": {
        "id": "gQB8MPV0sU4K",
        "colab": {
          "base_uri": "https://localhost:8080/"
        },
        "outputId": "87f55957-c317-402b-d6db-ed2325732700"
      },
      "source": [
        "import torch\n",
        "import torch.nn.functional as F\n",
        "from torch_geometric_temporal.nn.recurrent import A3TGCN\n",
        "\n",
        "class TemporalGNN(torch.nn.Module):\n",
        "    def __init__(self, node_features, periods):\n",
        "        super(TemporalGNN, self).__init__()\n",
        "        # Attention Temporal Graph Convolutional Cell\n",
        "        self.tgnn = A3TGCN(in_channels=node_features, \n",
        "                           out_channels=64, \n",
        "                           periods=periods)\n",
        "        # Equals single-shot prediction\n",
        "        self.linear1 = torch.nn.Linear(64,64)\n",
        "        self.linear2 = torch.nn.Linear(64, periods)\n",
        "\n",
        "    def forward(self, x, edge_index):\n",
        "        \"\"\"\n",
        "        x = Node features for T time steps\n",
        "        edge_index = Graph edge indices\n",
        "        \"\"\"\n",
        "        h = self.tgnn(x, edge_index)\n",
        "        h = F.relu(h)\n",
        "        h = self.linear1(h)\n",
        "        h = F.relu(h)\n",
        "        h = self.linear2(h)\n",
        "        return h\n",
        "\n",
        "TemporalGNN(node_features=2, periods=12)"
      ],
      "execution_count": 8,
      "outputs": [
        {
          "output_type": "execute_result",
          "data": {
            "text/plain": [
              "TemporalGNN(\n",
              "  (tgnn): A3TGCN(\n",
              "    (_base_tgcn): TGCN(\n",
              "      (conv_z): GCNConv(2, 64)\n",
              "      (linear_z): Linear(in_features=128, out_features=64, bias=True)\n",
              "      (conv_r): GCNConv(2, 64)\n",
              "      (linear_r): Linear(in_features=128, out_features=64, bias=True)\n",
              "      (conv_h): GCNConv(2, 64)\n",
              "      (linear_h): Linear(in_features=128, out_features=64, bias=True)\n",
              "    )\n",
              "  )\n",
              "  (linear1): Linear(in_features=64, out_features=64, bias=True)\n",
              "  (linear2): Linear(in_features=64, out_features=12, bias=True)\n",
              ")"
            ]
          },
          "metadata": {},
          "execution_count": 8
        }
      ]
    },
    {
      "cell_type": "markdown",
      "metadata": {
        "id": "RDbNmvO2_znb"
      },
      "source": [
        "## Training\n",
        "\n",
        "- Training on GPU didn't bring much speed-up\n",
        "- I ran into RAM issues, why I only train on a smaller subset of the data"
      ]
    },
    {
      "cell_type": "code",
      "metadata": {
        "colab": {
          "base_uri": "https://localhost:8080/"
        },
        "id": "7kOvaOrps2oe",
        "outputId": "5ed6be7f-d7ca-4dac-c0a7-93a8249d884a"
      },
      "source": [
        "# GPU support\n",
        "device = torch.device('cpu') # cuda\n",
        "subset = 1000\n",
        "\n",
        "# Create model and optimizers\n",
        "model = TemporalGNN(node_features=2, periods=12).to(device)\n",
        "optimizer = torch.optim.Adam(model.parameters(), lr=0.01)\n",
        "model.train()\n",
        "\n",
        "print(\"Running training...\")\n",
        "for epoch in range(100): \n",
        "    loss = 0\n",
        "    step = 0\n",
        "    for snapshot in train_dataset:\n",
        "        snapshot = snapshot.to(device)\n",
        "        # Get model predictions\n",
        "        y_hat = model(snapshot.x, snapshot.edge_index)\n",
        "        # Mean squared error\n",
        "        loss = loss + torch.mean((y_hat-snapshot.y)**2) \n",
        "        step += 1\n",
        "        if step > subset:\n",
        "          break\n",
        "\n",
        "    loss = loss / (step + 1)\n",
        "    loss.backward()\n",
        "    optimizer.step()\n",
        "    optimizer.zero_grad()\n",
        "    print(\"Epoch {} train MSE: {:.4f}\".format(epoch, loss.item()))"
      ],
      "execution_count": null,
      "outputs": [
        {
          "output_type": "stream",
          "name": "stdout",
          "text": [
            "Running training...\n",
            "Epoch 0 train MSE: 0.6433\n",
            "Epoch 1 train MSE: 0.6133\n",
            "Epoch 2 train MSE: 0.5745\n",
            "Epoch 3 train MSE: 0.5304\n",
            "Epoch 4 train MSE: 0.5189\n",
            "Epoch 5 train MSE: 0.4925\n",
            "Epoch 6 train MSE: 0.4585\n",
            "Epoch 7 train MSE: 0.4383\n",
            "Epoch 8 train MSE: 0.4234\n",
            "Epoch 9 train MSE: 0.4104\n",
            "Epoch 10 train MSE: 0.4109\n",
            "Epoch 11 train MSE: 0.4208\n",
            "Epoch 12 train MSE: 0.4167\n",
            "Epoch 13 train MSE: 0.4019\n",
            "Epoch 14 train MSE: 0.3913\n",
            "Epoch 15 train MSE: 0.3882\n",
            "Epoch 16 train MSE: 0.3882\n",
            "Epoch 17 train MSE: 0.3893\n",
            "Epoch 18 train MSE: 0.3913\n",
            "Epoch 19 train MSE: 0.3922\n",
            "Epoch 20 train MSE: 0.3895\n",
            "Epoch 21 train MSE: 0.3848\n",
            "Epoch 22 train MSE: 0.3809\n",
            "Epoch 23 train MSE: 0.3782\n",
            "Epoch 24 train MSE: 0.3763\n",
            "Epoch 25 train MSE: 0.3760\n",
            "Epoch 26 train MSE: 0.3759\n",
            "Epoch 27 train MSE: 0.3737\n",
            "Epoch 28 train MSE: 0.3703\n",
            "Epoch 29 train MSE: 0.3680\n",
            "Epoch 30 train MSE: 0.3672\n",
            "Epoch 31 train MSE: 0.3673\n",
            "Epoch 32 train MSE: 0.3678\n",
            "Epoch 33 train MSE: 0.3675\n",
            "Epoch 34 train MSE: 0.3661\n",
            "Epoch 35 train MSE: 0.3648\n",
            "Epoch 36 train MSE: 0.3643\n",
            "Epoch 37 train MSE: 0.3644\n",
            "Epoch 38 train MSE: 0.3644\n",
            "Epoch 39 train MSE: 0.3636\n",
            "Epoch 40 train MSE: 0.3623\n",
            "Epoch 41 train MSE: 0.3616\n",
            "Epoch 42 train MSE: 0.3615\n",
            "Epoch 43 train MSE: 0.3612\n",
            "Epoch 44 train MSE: 0.3604\n",
            "Epoch 45 train MSE: 0.3596\n",
            "Epoch 46 train MSE: 0.3592\n",
            "Epoch 47 train MSE: 0.3592\n",
            "Epoch 48 train MSE: 0.3588\n",
            "Epoch 49 train MSE: 0.3580\n",
            "Epoch 50 train MSE: 0.3576\n",
            "Epoch 51 train MSE: 0.3576\n",
            "Epoch 52 train MSE: 0.3573\n",
            "Epoch 53 train MSE: 0.3568\n",
            "Epoch 54 train MSE: 0.3564\n",
            "Epoch 55 train MSE: 0.3562\n",
            "Epoch 56 train MSE: 0.3560\n",
            "Epoch 57 train MSE: 0.3555\n",
            "Epoch 58 train MSE: 0.3552\n",
            "Epoch 59 train MSE: 0.3550\n",
            "Epoch 60 train MSE: 0.3547\n",
            "Epoch 61 train MSE: 0.3543\n",
            "Epoch 62 train MSE: 0.3541\n",
            "Epoch 63 train MSE: 0.3538\n",
            "Epoch 64 train MSE: 0.3534\n",
            "Epoch 65 train MSE: 0.3531\n",
            "Epoch 66 train MSE: 0.3529\n",
            "Epoch 67 train MSE: 0.3526\n",
            "Epoch 68 train MSE: 0.3522\n",
            "Epoch 69 train MSE: 0.3520\n",
            "Epoch 70 train MSE: 0.3517\n",
            "Epoch 71 train MSE: 0.3513\n",
            "Epoch 72 train MSE: 0.3511\n",
            "Epoch 73 train MSE: 0.3508\n",
            "Epoch 74 train MSE: 0.3505\n"
          ]
        }
      ]
    },
    {
      "cell_type": "markdown",
      "metadata": {
        "id": "X18pWbNsPSjb"
      },
      "source": [
        "## Evaluation\n",
        "\n",
        "- sample predictions for a specific horizon (e.g. 288/12 = 24 hours)\n",
        "- The model always gets one hour and needs to predict the next hour"
      ]
    },
    {
      "cell_type": "code",
      "metadata": {
        "id": "hNERp-_xs27y"
      },
      "source": [
        "model.eval()\n",
        "loss = 0\n",
        "step = 0\n",
        "horizon = 288\n",
        "\n",
        "# Store for analysis\n",
        "predictions = []\n",
        "labels = []\n",
        "\n",
        "for snapshot in test_dataset:\n",
        "    snapshot = snapshot.to(device)\n",
        "    # Get predictions\n",
        "    y_hat = model(snapshot.x, snapshot.edge_index)\n",
        "    # Mean squared error\n",
        "    loss = loss + torch.mean((y_hat-snapshot.y)**2)\n",
        "    # Store for analysis below\n",
        "    labels.append(snapshot.y)\n",
        "    predictions.append(y_hat)\n",
        "    step += 1\n",
        "    if step > horizon:\n",
        "          break\n",
        "\n",
        "loss = loss / (step+1)\n",
        "loss = loss.item()\n",
        "print(\"Test MSE: {:.4f}\".format(loss))"
      ],
      "execution_count": null,
      "outputs": []
    },
    {
      "cell_type": "markdown",
      "metadata": {
        "id": "wIVZyX1b_IPA"
      },
      "source": [
        "### Visualization\n",
        "\n",
        "- The further away the point in time is, the worse the predictions get\n",
        "- Predictions shape: [num_data_points, num_sensors, num_timesteps]"
      ]
    },
    {
      "cell_type": "code",
      "metadata": {
        "id": "J5AJPBdRMb4b"
      },
      "source": [
        "import numpy as np\n",
        "\n",
        "sensor = 123\n",
        "timestep = 11 \n",
        "preds = np.asarray([pred[sensor][timestep].detach().cpu().numpy() for pred in predictions])\n",
        "labs  = np.asarray([label[sensor][timestep].cpu().numpy() for label in labels])\n",
        "print(\"Data points:,\", preds.shape)"
      ],
      "execution_count": null,
      "outputs": []
    },
    {
      "cell_type": "code",
      "metadata": {
        "id": "08wwv2qUR7z9"
      },
      "source": [
        "import matplotlib.pyplot as plt \n",
        "plt.figure(figsize=(20,5))\n",
        "sns.lineplot(data=preds, label=\"pred\")\n",
        "sns.lineplot(data=labs, label=\"true\")"
      ],
      "execution_count": null,
      "outputs": []
    },
    {
      "cell_type": "code",
      "metadata": {
        "id": "g3GC5nmwSde0"
      },
      "source": [
        ""
      ],
      "execution_count": null,
      "outputs": []
    }
  ]
}